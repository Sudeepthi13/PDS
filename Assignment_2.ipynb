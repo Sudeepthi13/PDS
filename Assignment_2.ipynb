{
  "nbformat": 4,
  "nbformat_minor": 0,
  "metadata": {
    "colab": {
      "provenance": [],
      "authorship_tag": "ABX9TyOze5skmvrVd4q8wIP7xQM8",
      "include_colab_link": true
    },
    "kernelspec": {
      "name": "python3",
      "display_name": "Python 3"
    },
    "language_info": {
      "name": "python"
    }
  },
  "cells": [
    {
      "cell_type": "markdown",
      "metadata": {
        "id": "view-in-github",
        "colab_type": "text"
      },
      "source": [
        "<a href=\"https://colab.research.google.com/github/Sudeepthi13/PDS/blob/main/Assignment_2.ipynb\" target=\"_parent\"><img src=\"https://colab.research.google.com/assets/colab-badge.svg\" alt=\"Open In Colab\"/></a>"
      ]
    },
    {
      "cell_type": "code",
      "execution_count": 1,
      "metadata": {
        "colab": {
          "base_uri": "https://localhost:8080/"
        },
        "id": "ZCN0iLT2FMNh",
        "outputId": "d27cd034-0071-414a-af3f-275e289d6c2c"
      },
      "outputs": [
        {
          "output_type": "stream",
          "name": "stdout",
          "text": [
            "Requirement already satisfied: pandas in /usr/local/lib/python3.10/dist-packages (2.2.2)\n",
            "Requirement already satisfied: numpy>=1.22.4 in /usr/local/lib/python3.10/dist-packages (from pandas) (1.26.4)\n",
            "Requirement already satisfied: python-dateutil>=2.8.2 in /usr/local/lib/python3.10/dist-packages (from pandas) (2.8.2)\n",
            "Requirement already satisfied: pytz>=2020.1 in /usr/local/lib/python3.10/dist-packages (from pandas) (2024.2)\n",
            "Requirement already satisfied: tzdata>=2022.7 in /usr/local/lib/python3.10/dist-packages (from pandas) (2024.2)\n",
            "Requirement already satisfied: six>=1.5 in /usr/local/lib/python3.10/dist-packages (from python-dateutil>=2.8.2->pandas) (1.16.0)\n"
          ]
        }
      ],
      "source": [
        "pip install pandas\n"
      ]
    },
    {
      "cell_type": "code",
      "source": [
        "import pandas as pd\n",
        "data = pd.read_csv('/content/train.csv')"
      ],
      "metadata": {
        "id": "tu0u4fvPFVjb"
      },
      "execution_count": 3,
      "outputs": []
    },
    {
      "cell_type": "markdown",
      "source": [
        "# a) Look for the missing values in all the columns and either impute them (replace with mean, median, or mode) or drop them."
      ],
      "metadata": {
        "id": "zzo-WzfnFqdg"
      }
    },
    {
      "cell_type": "code",
      "source": [
        "# Ensure all values are strings before removing units\n",
        "data['Mileage'] = data['Mileage'].fillna(data['Mileage'].mean())      # Replace with mean\n",
        "data['Engine'] = data['Engine'].fillna(data['Engine'].mean())         # Replace with mean\n",
        "data['Power'] = data['Power'].fillna(data['Power'].mean())            # Replace with mean\n",
        "data['Seats'] = data['Seats'].fillna(data['Seats'].mode()[0])         # Replace with mode\n",
        "\n",
        "\n",
        "# Check for missing values again\n",
        "print(data.isnull().sum())\n",
        "\n",
        "# Impute or drop missing values without using inplace=True\n",
        "data['Mileage'] = data['Mileage'].fillna(data['Mileage'].mean())      # Replace with mean\n",
        "data['Engine'] = data['Engine'].fillna(data['Engine'].mean())         # Replace with mean\n",
        "data['Power'] = data['Power'].fillna(data['Power'].mean())            # Replace with mean\n",
        "data['Seats'] = data['Seats'].fillna(data['Seats'].mode()[0])         # Replace with mode\n",
        "\n",
        "# Drop 'New_Price' column only if it exists\n",
        "if 'New_Price' in data.columns:\n",
        "    data.drop(columns=['New_Price'], inplace=True)\n"
      ],
      "metadata": {
        "colab": {
          "base_uri": "https://localhost:8080/"
        },
        "id": "okT4rxZIHFzx",
        "outputId": "76902f31-9aa0-491b-8220-3e6bacdbc7c4"
      },
      "execution_count": 21,
      "outputs": [
        {
          "output_type": "stream",
          "name": "stdout",
          "text": [
            "Unnamed: 0           0\n",
            "Name                 0\n",
            "Location             0\n",
            "Year                 0\n",
            "Kilometers_Driven    0\n",
            "Fuel_Type            0\n",
            "Transmission         0\n",
            "Owner_Type           0\n",
            "Mileage              0\n",
            "Engine               0\n",
            "Power                0\n",
            "Seats                0\n",
            "Price                0\n",
            "dtype: int64\n"
          ]
        }
      ]
    },
    {
      "cell_type": "markdown",
      "source": [
        "#b)Remove the units from some of the attributes and only keep the numerical values."
      ],
      "metadata": {
        "id": "0sfcIp0vIRwH"
      }
    },
    {
      "cell_type": "code",
      "source": [
        "# Convert all entries to strings before removing units and converting to numeric\n",
        "data['Mileage'] = pd.to_numeric(data['Mileage'].astype(str).str.replace(' kmpl', ''), errors='coerce')\n",
        "data['Engine'] = pd.to_numeric(data['Engine'].astype(str).str.replace(' CC', ''), errors='coerce')\n",
        "data['Power'] = pd.to_numeric(data['Power'].astype(str).str.replace(' bhp', ''), errors='coerce')\n",
        "\n",
        "# Optional: Convert 'New_Price' if it exists and is needed\n",
        "if 'New_Price' in data.columns:\n",
        "    data['New_Price'] = pd.to_numeric(data['New_Price'].astype(str).str.replace(' lakh', ''), errors='coerce')\n"
      ],
      "metadata": {
        "id": "s3gzJvStHPRo"
      },
      "execution_count": 24,
      "outputs": []
    },
    {
      "cell_type": "markdown",
      "source": [
        "#C) Change the categorical variables (“Fuel_Type” and “Transmission”) into numerical one hot encoded value."
      ],
      "metadata": {
        "id": "l12Gjj2PIyXK"
      }
    },
    {
      "cell_type": "code",
      "source": [
        "# Convert categorical variables to one-hot encoded values\n",
        "data = pd.get_dummies(data, columns=['Fuel_Type', 'Transmission'], drop_first=True)\n",
        "\n"
      ],
      "metadata": {
        "id": "cesA5-xtIbqh"
      },
      "execution_count": 25,
      "outputs": []
    },
    {
      "cell_type": "markdown",
      "source": [
        "#d) Create one more feature and add this column to the dataset (you can use mutate function in R for this).For example, you can calculate the current age of the car by subtracting “Year” value from the current year."
      ],
      "metadata": {
        "id": "42EtapwgI68d"
      }
    },
    {
      "cell_type": "code",
      "source": [
        "# Add a new feature for the current age of the car\n",
        "current_year = 2024  # Replace with the current year as needed\n",
        "data['Car_Age'] = current_year - data['Year']\n"
      ],
      "metadata": {
        "id": "V97fnTSxI3A8"
      },
      "execution_count": 26,
      "outputs": []
    },
    {
      "cell_type": "markdown",
      "source": [
        "#e)Perform select, filter, rename, mutate, arrange and summarize with group by operations (or their equivalent operations in python) on this dataset."
      ],
      "metadata": {
        "id": "UyqzB2EKJB00"
      }
    },
    {
      "cell_type": "code",
      "source": [
        "# Selecting specific columns: for example, selecting Name, Location, and Price\n",
        "selected_data = data[['Name', 'Location', 'Price']]\n",
        "print(selected_data.head())\n"
      ],
      "metadata": {
        "colab": {
          "base_uri": "https://localhost:8080/"
        },
        "id": "avWIBTZBI-xK",
        "outputId": "ea15f1f1-6ed4-4d76-b1da-7f06938730f8"
      },
      "execution_count": 27,
      "outputs": [
        {
          "output_type": "stream",
          "name": "stdout",
          "text": [
            "                               Name    Location  Price\n",
            "0  Hyundai Creta 1.6 CRDi SX Option        Pune  12.50\n",
            "1                      Honda Jazz V     Chennai   4.50\n",
            "2                 Maruti Ertiga VDI     Chennai   6.00\n",
            "3   Audi A4 New 2.0 TDI Multitronic  Coimbatore  17.74\n",
            "4            Nissan Micra Diesel XV      Jaipur   3.50\n"
          ]
        }
      ]
    },
    {
      "cell_type": "code",
      "source": [
        "# Filtering data: for example, selecting cars priced above 5 lakhs\n",
        "filtered_data = data[data['Price'] > 5]\n",
        "print(filtered_data.head())\n"
      ],
      "metadata": {
        "colab": {
          "base_uri": "https://localhost:8080/"
        },
        "id": "Q7cwMhddJPEf",
        "outputId": "b72f90c0-a887-4ca2-80ab-d29c07068255"
      },
      "execution_count": 28,
      "outputs": [
        {
          "output_type": "stream",
          "name": "stdout",
          "text": [
            "   Unnamed: 0                                 Name    Location  Year  \\\n",
            "0           1     Hyundai Creta 1.6 CRDi SX Option        Pune  2015   \n",
            "2           3                    Maruti Ertiga VDI     Chennai  2012   \n",
            "3           4      Audi A4 New 2.0 TDI Multitronic  Coimbatore  2013   \n",
            "5           7    Toyota Innova Crysta 2.8 GX AT 8S      Mumbai  2016   \n",
            "6           8  Volkswagen Vento Diesel Comfortline        Pune  2013   \n",
            "\n",
            "   Kilometers_Driven Owner_Type  Mileage  Engine   Power  Seats  Price  \\\n",
            "0              41000      First    19.67  1582.0  126.20    5.0  12.50   \n",
            "2              87000      First    20.77  1248.0   88.76    7.0   6.00   \n",
            "3              40670     Second    15.20  1968.0  140.80    5.0  17.74   \n",
            "5              36000      First    11.36  2755.0  171.50    8.0  17.50   \n",
            "6              64430      First    20.54  1598.0  103.60    5.0   5.20   \n",
            "\n",
            "   Fuel_Type_Electric  Fuel_Type_Petrol  Transmission_Manual  Car_Age  \n",
            "0               False             False                 True        9  \n",
            "2               False             False                 True       12  \n",
            "3               False             False                False       11  \n",
            "5               False             False                False        8  \n",
            "6               False             False                 True       11  \n"
          ]
        }
      ]
    },
    {
      "cell_type": "code",
      "source": [
        "# Renaming columns: for example, renaming 'Kilometers_Driven' to 'Odometer' and 'Owner_Type' to 'Owner'\n",
        "renamed_data = data.rename(columns={'Kilometers_Driven': 'Odometer', 'Owner_Type': 'Owner'})\n",
        "print(renamed_data.head())\n"
      ],
      "metadata": {
        "colab": {
          "base_uri": "https://localhost:8080/"
        },
        "id": "qSsEi1C1JQ3I",
        "outputId": "3803f20a-3d11-45e9-c944-d7f63871dbf4"
      },
      "execution_count": 29,
      "outputs": [
        {
          "output_type": "stream",
          "name": "stdout",
          "text": [
            "   Unnamed: 0                              Name    Location  Year  Odometer  \\\n",
            "0           1  Hyundai Creta 1.6 CRDi SX Option        Pune  2015     41000   \n",
            "1           2                      Honda Jazz V     Chennai  2011     46000   \n",
            "2           3                 Maruti Ertiga VDI     Chennai  2012     87000   \n",
            "3           4   Audi A4 New 2.0 TDI Multitronic  Coimbatore  2013     40670   \n",
            "4           6            Nissan Micra Diesel XV      Jaipur  2013     86999   \n",
            "\n",
            "    Owner   Mileage  Engine   Power  Seats  Price  Fuel_Type_Electric  \\\n",
            "0   First  19.67000  1582.0  126.20    5.0  12.50               False   \n",
            "1   First  18.16115  1199.0   88.70    5.0   4.50               False   \n",
            "2   First  20.77000  1248.0   88.76    7.0   6.00               False   \n",
            "3  Second  15.20000  1968.0  140.80    5.0  17.74               False   \n",
            "4   First  23.08000  1461.0   63.10    5.0   3.50               False   \n",
            "\n",
            "   Fuel_Type_Petrol  Transmission_Manual  Car_Age  \n",
            "0             False                 True        9  \n",
            "1              True                 True       13  \n",
            "2             False                 True       12  \n",
            "3             False                False       11  \n",
            "4             False                 True       11  \n"
          ]
        }
      ]
    },
    {
      "cell_type": "code",
      "source": [
        "# Creating a new column: for example, calculating car age based on the Year column\n",
        "current_year = 2024  # Update to the current year if needed\n",
        "data['Car_Age'] = current_year - data['Year']\n",
        "\n",
        "# Example of modifying a column or creating a derived metric, e.g., price per age of the car\n",
        "data['Price_Per_Age'] = data['Price'] / data['Car_Age']\n",
        "print(data[['Car_Age', 'Price_Per_Age']].head())\n"
      ],
      "metadata": {
        "colab": {
          "base_uri": "https://localhost:8080/"
        },
        "id": "wxKJ2K1tJSy8",
        "outputId": "3fb0e0ae-2f35-41c1-d207-e7463c2cd1b5"
      },
      "execution_count": 30,
      "outputs": [
        {
          "output_type": "stream",
          "name": "stdout",
          "text": [
            "   Car_Age  Price_Per_Age\n",
            "0        9       1.388889\n",
            "1       13       0.346154\n",
            "2       12       0.500000\n",
            "3       11       1.612727\n",
            "4       11       0.318182\n"
          ]
        }
      ]
    },
    {
      "cell_type": "code",
      "source": [
        "# Sorting data by Price in descending order\n",
        "sorted_data = data.sort_values(by='Price', ascending=False)\n",
        "print(sorted_data.head())\n"
      ],
      "metadata": {
        "colab": {
          "base_uri": "https://localhost:8080/"
        },
        "id": "kSo9YCPjJUiC",
        "outputId": "1f0d1107-dbb4-43e6-9446-1715ff0d7ad8"
      },
      "execution_count": 31,
      "outputs": [
        {
          "output_type": "stream",
          "name": "stdout",
          "text": [
            "      Unnamed: 0                                         Name    Location  \\\n",
            "3952        4079  Land Rover Range Rover 3.0 Diesel LWB Vogue   Hyderabad   \n",
            "5620        5781                   Lamborghini Gallardo Coupe       Delhi   \n",
            "5752        5919                       Jaguar F Type 5.0 V8 S   Hyderabad   \n",
            "1457        1505              Land Rover Range Rover Sport SE       Kochi   \n",
            "1917        1974                           BMW 7 Series 740Li  Coimbatore   \n",
            "\n",
            "      Year  Kilometers_Driven Owner_Type  Mileage  Engine  Power  Seats  \\\n",
            "3952  2017              25000      First    13.33  2993.0  255.0    5.0   \n",
            "5620  2011               6500      Third     6.40  5204.0  560.0    2.0   \n",
            "5752  2015               8000      First    12.50  5000.0  488.1    2.0   \n",
            "1457  2019              26013      First    12.65  2993.0  255.0    5.0   \n",
            "1917  2018              28060      First    12.05  2979.0  320.0    5.0   \n",
            "\n",
            "       Price  Fuel_Type_Electric  Fuel_Type_Petrol  Transmission_Manual  \\\n",
            "3952  160.00               False             False                False   \n",
            "5620  120.00               False              True                False   \n",
            "5752  100.00               False              True                False   \n",
            "1457   97.07               False             False                False   \n",
            "1917   93.67               False              True                False   \n",
            "\n",
            "      Car_Age  Price_Per_Age  \n",
            "3952        7      22.857143  \n",
            "5620       13       9.230769  \n",
            "5752        9      11.111111  \n",
            "1457        5      19.414000  \n",
            "1917        6      15.611667  \n"
          ]
        }
      ]
    },
    {
      "cell_type": "code",
      "source": [
        "# Grouping by Location and calculating the average price in each location\n",
        "summary = data.groupby('Location')['Price'].mean().reset_index().rename(columns={'Price': 'Average_Price'})\n",
        "print(summary.head())\n"
      ],
      "metadata": {
        "colab": {
          "base_uri": "https://localhost:8080/"
        },
        "id": "itPry5rjJZFO",
        "outputId": "28c0ad71-3b02-4349-a70b-d828a8cbc3a1"
      },
      "execution_count": 32,
      "outputs": [
        {
          "output_type": "stream",
          "name": "stdout",
          "text": [
            "     Location  Average_Price\n",
            "0   Ahmedabad       8.567248\n",
            "1   Bangalore      13.482670\n",
            "2     Chennai       7.958340\n",
            "3  Coimbatore      15.160206\n",
            "4       Delhi       9.881944\n"
          ]
        }
      ]
    },
    {
      "cell_type": "code",
      "source": [],
      "metadata": {
        "id": "ylwTufRFJa1v"
      },
      "execution_count": null,
      "outputs": []
    }
  ]
}