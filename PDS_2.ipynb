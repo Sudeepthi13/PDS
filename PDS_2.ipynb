{
  "nbformat": 4,
  "nbformat_minor": 0,
  "metadata": {
    "colab": {
      "provenance": [],
      "authorship_tag": "ABX9TyMePjX4qiPvHZtUrepZCOdY",
      "include_colab_link": true
    },
    "kernelspec": {
      "name": "python3",
      "display_name": "Python 3"
    },
    "language_info": {
      "name": "python"
    }
  },
  "cells": [
    {
      "cell_type": "markdown",
      "metadata": {
        "id": "view-in-github",
        "colab_type": "text"
      },
      "source": [
        "<a href=\"https://colab.research.google.com/github/Sudeepthi13/PDS/blob/main/PDS_2.ipynb\" target=\"_parent\"><img src=\"https://colab.research.google.com/assets/colab-badge.svg\" alt=\"Open In Colab\"/></a>"
      ]
    },
    {
      "cell_type": "code",
      "execution_count": 1,
      "metadata": {
        "colab": {
          "base_uri": "https://localhost:8080/"
        },
        "id": "dvcrcQr_R-o-",
        "outputId": "1a5914d1-c10c-4461-9081-527fb1018ab5"
      },
      "outputs": [
        {
          "output_type": "stream",
          "name": "stdout",
          "text": [
            "Requirement already satisfied: pandas in /usr/local/lib/python3.10/dist-packages (2.2.2)\n",
            "Requirement already satisfied: numpy>=1.22.4 in /usr/local/lib/python3.10/dist-packages (from pandas) (1.26.4)\n",
            "Requirement already satisfied: python-dateutil>=2.8.2 in /usr/local/lib/python3.10/dist-packages (from pandas) (2.8.2)\n",
            "Requirement already satisfied: pytz>=2020.1 in /usr/local/lib/python3.10/dist-packages (from pandas) (2024.2)\n",
            "Requirement already satisfied: tzdata>=2022.7 in /usr/local/lib/python3.10/dist-packages (from pandas) (2024.2)\n",
            "Requirement already satisfied: six>=1.5 in /usr/local/lib/python3.10/dist-packages (from python-dateutil>=2.8.2->pandas) (1.16.0)\n"
          ]
        }
      ],
      "source": [
        "pip install pandas"
      ]
    },
    {
      "cell_type": "code",
      "source": [
        "import pandas as pd\n",
        "data = pd.read_csv('/content/train.csv')"
      ],
      "metadata": {
        "id": "tu0u4fvPFVjb"
      },
      "execution_count": 6,
      "outputs": []
    },
    {
      "cell_type": "code",
      "source": [
        "# Check for missing values\n",
        "missing_values = data.isnull().sum()\n",
        "print(missing_values)"
      ],
      "metadata": {
        "colab": {
          "base_uri": "https://localhost:8080/"
        },
        "id": "WcFRcrY3SKnm",
        "outputId": "f05d3828-dcdf-4c93-e618-0d70424453a3"
      },
      "execution_count": 7,
      "outputs": [
        {
          "output_type": "stream",
          "name": "stdout",
          "text": [
            "Unnamed: 0              0\n",
            "Name                    0\n",
            "Location                0\n",
            "Year                    0\n",
            "Kilometers_Driven       0\n",
            "Fuel_Type               0\n",
            "Transmission            0\n",
            "Owner_Type              0\n",
            "Mileage                 2\n",
            "Engine                 36\n",
            "Power                  36\n",
            "Seats                  38\n",
            "New_Price            5032\n",
            "Price                   0\n",
            "dtype: int64\n"
          ]
        }
      ]
    },
    {
      "cell_type": "markdown",
      "source": [
        "#a) Look for the missing values in all the columns and either impute them (replace with mean, median, or mode) or drop them."
      ],
      "metadata": {
        "id": "e4Joe1MnUroZ"
      }
    },
    {
      "cell_type": "code",
      "source": [
        "# Convert columns to strings, remove units, then convert to numeric\n",
        "data['Mileage'] = data['Mileage'].astype(str).str.replace(r'[^0-9.]', '', regex=True).astype(float)\n",
        "data['Engine'] = data['Engine'].astype(str).str.replace(r'[^0-9.]', '', regex=True).astype(float)\n",
        "data['Power'] = data['Power'].astype(str).str.replace(r'[^0-9.]', '', regex=True).astype(float)\n",
        "\n",
        "# Impute missing values without inplace=True to avoid FutureWarnings\n",
        "data['Mileage'] = data['Mileage'].fillna(data['Mileage'].median())\n",
        "data['Engine'] = data['Engine'].fillna(data['Engine'].mean())\n",
        "data['Power'] = data['Power'].fillna(data['Power'].mean())\n",
        "data['Seats'] = data['Seats'].fillna(data['Seats'].mode()[0])\n",
        "\n",
        "# Drop New_Price column if it exists\n",
        "if 'New_Price' in data.columns:\n",
        "    data = data.drop(columns=['New_Price'])\n",
        "\n",
        "# Verify all missing values are handled\n",
        "print(data.isnull().sum())"
      ],
      "metadata": {
        "colab": {
          "base_uri": "https://localhost:8080/"
        },
        "id": "k2T1cV_XSQrx",
        "outputId": "c3610149-9010-420d-a287-0d26ab78f290"
      },
      "execution_count": 16,
      "outputs": [
        {
          "output_type": "stream",
          "name": "stdout",
          "text": [
            "Unnamed: 0           0\n",
            "Name                 0\n",
            "Location             0\n",
            "Year                 0\n",
            "Kilometers_Driven    0\n",
            "Fuel_Type            0\n",
            "Transmission         0\n",
            "Owner_Type           0\n",
            "Mileage              0\n",
            "Engine               0\n",
            "Power                0\n",
            "Seats                0\n",
            "Price                0\n",
            "dtype: int64\n"
          ]
        }
      ]
    },
    {
      "cell_type": "markdown",
      "source": [
        "Mileage (median): Mileage has outliers due to varying fuel efficiency. Using the median avoids skewing data towards extreme values, preserving a realistic distribution.\n",
        "\n",
        "Engine (mean): Engine size generally follows a normal distribution. Imputing with the mean maintains a balanced average without introducing bias.\n",
        "\n",
        "Power (mean): Like engine size, horsepower is a continuous variable. The mean keeps the overall power level consistent, which supports performance-based analysis.\n",
        "\n",
        "Seats (mode): Seats are categorical, with a few common values. Using the mode preserves the dominant configuration, avoiding unrealistic values."
      ],
      "metadata": {
        "id": "J8--auukUjth"
      }
    },
    {
      "cell_type": "markdown",
      "source": [
        "#b)Remove the units from some of the attributes and only keep the numerical values.\n"
      ],
      "metadata": {
        "id": "lISrCg4UUwaY"
      }
    },
    {
      "cell_type": "code",
      "source": [
        "# Convert all entries to strings before removing units and converting to numeric\n",
        "data['Mileage'] = pd.to_numeric(data['Mileage'].astype(str).str.replace(' kmpl', ''), errors='coerce')\n",
        "data['Engine'] = pd.to_numeric(data['Engine'].astype(str).str.replace(' CC', ''), errors='coerce')\n",
        "data['Power'] = pd.to_numeric(data['Power'].astype(str).str.replace(' bhp', ''), errors='coerce')\n",
        "\n",
        "# Optional: Convert 'New_Price' if it exists and is needed\n",
        "if 'New_Price' in data.columns:\n",
        "    data['New_Price'] = pd.to_numeric(data['New_Price'].astype(str).str.replace(' lakh', ''), errors='coerce')\n"
      ],
      "metadata": {
        "id": "8IpQfjGZT4Iz"
      },
      "execution_count": 17,
      "outputs": []
    },
    {
      "cell_type": "markdown",
      "source": [
        "#C) Change the categorical variables (“Fuel_Type” and “Transmission”) into numerical one hot encoded value."
      ],
      "metadata": {
        "id": "4hQR5YZ7U8T-"
      }
    },
    {
      "cell_type": "code",
      "source": [
        "# Check the column names\n",
        "print(data.columns)\n",
        "\n",
        "# Perform one-hot encoding on categorical variables if columns exist\n",
        "if 'Fuel_Type' in data.columns and 'Transmission' in data.columns:\n",
        "    data = pd.get_dummies(data, columns=['Fuel_Type', 'Transmission'], drop_first=True)\n",
        "else:\n",
        "    print(\"One or both columns not found.\")\n"
      ],
      "metadata": {
        "colab": {
          "base_uri": "https://localhost:8080/"
        },
        "id": "wdhP7tQfWfKU",
        "outputId": "fdcf317f-069e-488a-fa84-73b3da636dae"
      },
      "execution_count": 25,
      "outputs": [
        {
          "output_type": "stream",
          "name": "stdout",
          "text": [
            "Index(['Unnamed: 0', 'Name', 'Location', 'Year', 'Kilometers_Driven',\n",
            "       'Owner_Type', 'Mileage', 'Engine', 'Power', 'Seats', 'Price',\n",
            "       'Fuel_Type_Electric', 'Fuel_Type_Petrol', 'Transmission_Manual'],\n",
            "      dtype='object')\n",
            "One or both columns not found.\n"
          ]
        }
      ]
    },
    {
      "cell_type": "markdown",
      "source": [
        "Fuel_Type and Transmission columns have already been one-hot encoded, resulting in new columns like Fuel_Type_Electric, Fuel_Type_Petrol, and Transmission_Manual"
      ],
      "metadata": {
        "id": "Rf1ZoEg8XITD"
      }
    },
    {
      "cell_type": "markdown",
      "source": [
        "#d) Create one more feature and add this column to the dataset (you can use mutate function in R for this).For example, you can calculate the current age of the car by subtracting “Year” value from the current year."
      ],
      "metadata": {
        "id": "4AJ_7srsVLcv"
      }
    },
    {
      "cell_type": "code",
      "source": [
        "from datetime import datetime\n",
        "\n",
        "# Calculate the current year\n",
        "current_year = datetime.now().year\n",
        "\n",
        "# Create a new 'Car_Age' column\n",
        "data['Car_Age'] = current_year - data['Year']\n"
      ],
      "metadata": {
        "id": "Rw2WSUnZVJHU"
      },
      "execution_count": 26,
      "outputs": []
    },
    {
      "cell_type": "code",
      "source": [
        "# 1. Select specific columns\n",
        "selected_data = data[['Name', 'Year', 'Mileage', 'Engine', 'Power', 'Price', 'Car_Age']]\n",
        "\n",
        "# 2. Filter rows (e.g., select cars manufactured after 2015)\n",
        "filtered_data = selected_data[selected_data['Year'] > 2015]\n",
        "\n",
        "# 3. Rename columns (e.g., rename 'Power' to 'Horsepower')\n",
        "renamed_data = filtered_data.rename(columns={'Power': 'Horsepower'})\n",
        "\n",
        "# 4. Mutate (add a new column, e.g., Price per Horsepower)\n",
        "renamed_data['Price_per_Horsepower'] = renamed_data['Price'] / renamed_data['Horsepower']\n",
        "\n",
        "# 5. Arrange (sort by 'Price' in descending order)\n",
        "arranged_data = renamed_data.sort_values(by='Price', ascending=False)\n",
        "\n",
        "# 6. Summarize with group by (e.g., average price by year)\n",
        "summary = arranged_data.groupby('Year')['Price'].mean().reset_index()\n",
        "\n",
        "# Display the final DataFrame and summary\n",
        "print(\"Selected Data:\\n\", selected_data.head())\n",
        "print(\"\\nFiltered Data:\\n\", filtered_data.head())\n",
        "print(\"\\nRenamed Data:\\n\", renamed_data.head())\n",
        "print(\"\\nArranged Data:\\n\", arranged_data.head())\n",
        "print(\"\\nSummary (Average Price by Year):\\n\", summary)"
      ],
      "metadata": {
        "colab": {
          "base_uri": "https://localhost:8080/"
        },
        "id": "odZaCP0vW19d",
        "outputId": "660fcf31-e7fb-4631-ad28-f2b64284103d"
      },
      "execution_count": 27,
      "outputs": [
        {
          "output_type": "stream",
          "name": "stdout",
          "text": [
            "Selected Data:\n",
            "                                Name  Year  Mileage  Engine   Power  Price  \\\n",
            "0  Hyundai Creta 1.6 CRDi SX Option  2015    19.67  1582.0  126.20  12.50   \n",
            "1                      Honda Jazz V  2011    13.00  1199.0   88.70   4.50   \n",
            "2                 Maruti Ertiga VDI  2012    20.77  1248.0   88.76   6.00   \n",
            "3   Audi A4 New 2.0 TDI Multitronic  2013    15.20  1968.0  140.80  17.74   \n",
            "4            Nissan Micra Diesel XV  2013    23.08  1461.0   63.10   3.50   \n",
            "\n",
            "   Car_Age  \n",
            "0        9  \n",
            "1       13  \n",
            "2       12  \n",
            "3       11  \n",
            "4       11  \n",
            "\n",
            "Filtered Data:\n",
            "                                  Name  Year  Mileage  Engine   Power  Price  \\\n",
            "5   Toyota Innova Crysta 2.8 GX AT 8S  2016    11.36  2755.0  171.50  17.50   \n",
            "8                    Maruti Ciaz Zeta  2018    21.56  1462.0  103.25   9.95   \n",
            "14              Honda Amaze S i-Dtech  2016    25.80  1498.0   98.60   5.40   \n",
            "15              Maruti Swift DDiS VDI  2017    28.40  1248.0   74.00   5.99   \n",
            "26                Honda WRV i-VTEC VX  2018    17.50  1199.0   88.70   9.90   \n",
            "\n",
            "    Car_Age  \n",
            "5         8  \n",
            "8         6  \n",
            "14        8  \n",
            "15        7  \n",
            "26        6  \n",
            "\n",
            "Renamed Data:\n",
            "                                  Name  Year  Mileage  Engine  Horsepower  \\\n",
            "5   Toyota Innova Crysta 2.8 GX AT 8S  2016    11.36  2755.0      171.50   \n",
            "8                    Maruti Ciaz Zeta  2018    21.56  1462.0      103.25   \n",
            "14              Honda Amaze S i-Dtech  2016    25.80  1498.0       98.60   \n",
            "15              Maruti Swift DDiS VDI  2017    28.40  1248.0       74.00   \n",
            "26                Honda WRV i-VTEC VX  2018    17.50  1199.0       88.70   \n",
            "\n",
            "    Price  Car_Age  Price_per_Horsepower  \n",
            "5   17.50        8              0.102041  \n",
            "8    9.95        6              0.096368  \n",
            "14   5.40        8              0.054767  \n",
            "15   5.99        7              0.080946  \n",
            "26   9.90        6              0.111612  \n",
            "\n",
            "Arranged Data:\n",
            "                                              Name  Year  Mileage  Engine  \\\n",
            "3952  Land Rover Range Rover 3.0 Diesel LWB Vogue  2017    13.33  2993.0   \n",
            "1457              Land Rover Range Rover Sport SE  2019    12.65  2993.0   \n",
            "1917                           BMW 7 Series 740Li  2018    12.05  2979.0   \n",
            "1927                           BMW 7 Series 740Li  2017    12.05  2979.0   \n",
            "2035                     Mercedes-Benz SLC 43 AMG  2019    19.00  2996.0   \n",
            "\n",
            "      Horsepower   Price  Car_Age  Price_per_Horsepower  \n",
            "3952      255.00  160.00        7              0.627451  \n",
            "1457      255.00   97.07        5              0.380667  \n",
            "1917      320.00   93.67        6              0.292719  \n",
            "1927      320.00   93.00        7              0.290625  \n",
            "2035      362.07   83.96        5              0.231889  \n",
            "\n",
            "Summary (Average Price by Year):\n",
            "    Year      Price\n",
            "0  2016  11.776798\n",
            "1  2017  13.831735\n",
            "2  2018  15.884558\n",
            "3  2019  19.603564\n"
          ]
        }
      ]
    }
  ]
}